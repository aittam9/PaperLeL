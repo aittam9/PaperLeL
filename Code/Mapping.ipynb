{
 "cells": [
  {
   "cell_type": "code",
   "execution_count": 1,
   "metadata": {},
   "outputs": [],
   "source": [
    "import os\n",
    "import pickle\n",
    "\n",
    "import pandas as pd\n",
    "import numpy as np\n",
    "import matplotlib.pyplot as plt\n",
    "\n",
    "from scipy.stats import spearmanr\n",
    "from collections import defaultdict, Counter\n",
    "\n",
    "\n",
    "from sklearn.cross_decomposition import PLSRegression\n",
    "\n",
    "from sklearn.model_selection import cross_val_predict\n",
    "\n",
    "from sklearn.decomposition import SparsePCA \n",
    "\n",
    "import joblib "
   ]
  },
  {
   "cell_type": "code",
   "execution_count": 2,
   "metadata": {},
   "outputs": [],
   "source": [
    "# function to estimate corrs \n",
    "def estimate_corrs(y_original, y_inferred, labels, corr_type):\n",
    "    \"\"\"\n",
    "    corr_type è un parametro che specifica se la correlazione deve essere \n",
    "    calcolata tra le righe (\"byrow\") o tra le colonne (\"bycolumn\") delle due\n",
    "    matrici fornite in input\n",
    "    \n",
    "    In out fornisce sia la correlazione media che un Counter con le correlazioni puntuali\n",
    "    \"\"\"\n",
    "    corrs = Counter()\n",
    "        \n",
    "    if corr_type == \"byrow\":\n",
    "        for i in range(len(y_original)):\n",
    "            rho, _ = spearmanr(y_original[i], y_inferred[i])\n",
    "            corrs[labels[i]] = rho\n",
    "        \n",
    "    elif corr_type == \"bycolumn\":\n",
    "        for i in range(y_original.shape[1]):\n",
    "            rho, _ = spearmanr(y_original[:,i], y_inferred[:,i])\n",
    "            corrs[labels[i]] = rho\n",
    "                \n",
    "    average_rho = np.average(list(corrs.values()))\n",
    "        \n",
    "    return corrs, average_rho\n",
    "\n",
    "#helper function to load the embeddings and reshape them along with the sspace\n",
    "def embeddings_preparation(model_emb_path, sspace_nsubj , sspace_dobj, model_name = \"\", return_new_sspace = False):\n",
    "    \n",
    "    \"\"\"Parameters:\n",
    "    model_emb_path: name under wich embeddings are saved\n",
    "    sspace_nsubj: the sspace loaded for the nsubj\n",
    "    sspace_dobj: the sspace loaded for the dobj\n",
    "    model_name: the name of the model we are referringe to. Will be used to store the spaces with the right key.\n",
    "    return_new_sspace: parameter to decide if we want in output the reshaped sspaces. To be used the first time only.\n",
    "    \n",
    "    Output:\n",
    "    a dictionary containing two keys with respective values: the actual embedding space and a baseline with the same shape\n",
    "    new_sspace_nsubj, new_sspace_dobj: the reshaped target semantic spaces (only if param return_new_sspace =True)\n",
    "    \"\"\"\n",
    "    \n",
    "    #load the embeddings for the given model\n",
    "    dir_path = \"..\\\\Data\\\\Extracted_Embeddings\"\n",
    "    with open(os.path.join(dir_path,model_emb_path), \"rb\") as infile:\n",
    "        embeddings_dict = pickle.load(infile)\n",
    "    \n",
    "    #convert the dictionary into a dataframe\n",
    "    emb_df = pd.DataFrame(embeddings_dict).T \n",
    "    \n",
    "    #take the index of the semantic spaces to match the extracted verbs\n",
    "    verbs2keep_nsubj = sspace_nsubj.index.tolist()\n",
    "    verbs2keep_dobj = sspace_dobj.index.tolist()\n",
    "    \n",
    "    #filter the verbs from the target semantic space to match the embeddings spaces\n",
    "    model_nsubj = emb_df.filter(items = verbs2keep_nsubj, axis = 0).apply(lambda x:(x-x.min())/(x.max()-x.min()))\n",
    "    model_dobj = emb_df.filter(items = verbs2keep_dobj, axis = 0 ).apply(lambda x:(x-x.min())/(x.max()-x.min()))\n",
    "\n",
    "    #reverse the process to restrict the semantic spaces\n",
    "    sspace_nsubj_final = sspace_nsubj.filter(model_nsubj.index.tolist(), axis = 0)\n",
    "    sspace_dobbj_final = sspace_dobj.filter(model_dobj.index.tolist(), axis = 0)\n",
    "    \n",
    "    #store all the spaces along with a baseline in a dictionary\n",
    "    spaces_dict_nsubj = {}\n",
    "    spaces_dict_nsubj[model_name+\"_nsubj\"] = model_nsubj.values \n",
    "    spaces_dict_nsubj[model_name+\"_nsubj_baseline\"] = np.random.random_sample(model_nsubj.shape)\n",
    "    \n",
    "    # same for dobj\n",
    "    spaces_dict_dobj = {}\n",
    "    spaces_dict_dobj[model_name+\"_dobj\"] = model_dobj.values \n",
    "    spaces_dict_dobj[model_name+\"_dobj_baseline\"] = np.random.random_sample(model_dobj.shape)\n",
    "    \n",
    "    if return_new_sspace:\n",
    "        return spaces_dict_nsubj, spaces_dict_dobj, sspace_nsubj_final, sspace_dobbj_final\n",
    "    else:\n",
    "        return spaces_dict_nsubj, spaces_dict_dobj\n",
    "\n",
    "\n",
    "#helper function to automate correlations estimation\n",
    "def get_correlations_values(model_space:dict, semantic_space: pd.DataFrame, sPca = True):\n",
    "    \n",
    "    \"\"\"Parameters:\n",
    "    model_space: a dictionary containig 2 keys: the actual model embedding space for the gram argument(e.g. nsubj)\n",
    "                 and the random baseline shape as the model space.\n",
    "    semantic_space: a data frame the target semantic space for the referred gram argument. Will be used as y and to derive labels\n",
    "                    for corrs estimation.\n",
    "    sPCA: a boolean to decide if we want to transform the target space with sPCA. Default to True to reduce noise.\n",
    "    \n",
    "    Output:\n",
    "    Print average rhos values, by column and by row, for the embedding space and the baseline\n",
    "    all_corrs: puncutal correlations by row and column for model and baseline.\n",
    "    all_avg_rhos: average rhos by row and column, for model and baseline.\"\"\"\n",
    "    \n",
    "    # initialize the regressor and dictionary to be filled\n",
    "    pls = PLSRegression(n_components= 10)\n",
    "    all_corr = defaultdict(dict)\n",
    "    all_avg_rhos = defaultdict(dict)\n",
    "    y_pred = {}\n",
    "    #get the verbs and properties names, to be used as labels in corr estimation\n",
    "    verbs = semantic_space.index.tolist()\n",
    "    properties = semantic_space.columns.tolist()\n",
    "    \n",
    "    #initialize the sPCA and transform the target space if param not False\n",
    "    if sPca:\n",
    "        print(f\"Sparse PCA activated\\n\")\n",
    "        pca = SparsePCA(n_components=14)\n",
    "        y = pca.fit_transform(semantic_space.values)\n",
    "    else:\n",
    "        print(f\"Not using Sparse PCA\")\n",
    "        y = semantic_space.values\n",
    "        \n",
    "    # mapping for the given space\n",
    "    for k in model_space.keys():\n",
    "        X = model_space[k]\n",
    "        y = y\n",
    "        #get prediction values with cross validation k=10\n",
    "        y_pred[k] = cross_val_predict(pls, X, y, cv = 10)\n",
    "\n",
    "        # store and print correlation by row    \n",
    "        corrs, avg_rho = estimate_corrs(y,y_pred[k], verbs, 'byrow')\n",
    "        print(f\"Average row correlation for the {k} space: {avg_rho}\")\n",
    "\n",
    "        all_corr[k]['byrow'] = corrs\n",
    "        all_avg_rhos[k]['byrow'] = avg_rho\n",
    "\n",
    "        # store and print correlation by column\n",
    "        corrs, avg_rho = estimate_corrs(y,y_pred[k], properties, 'bycolumn')\n",
    "        print(f\"Average column correlation for the {k} space: {avg_rho}\\n\")\n",
    "\n",
    "        all_corr[k]['bycolumn'] = corrs\n",
    "        all_avg_rhos[k]['bycolumn'] = avg_rho\n",
    "\n",
    "    return all_corr, all_avg_rhos "
   ]
  },
  {
   "cell_type": "code",
   "execution_count": 3,
   "metadata": {},
   "outputs": [],
   "source": [
    "#helper function to aggregate all correlation results in a unique dataframe\n",
    "def aggregate_results(list_of_dict, save_results = False, file_name = \"\", output_path = \"\"):\n",
    "    outdir = output_path\n",
    "    df = pd.concat([pd.DataFrame(i).T for i in list_of_dict])\n",
    "    \n",
    "    if save_results:\n",
    "        file_name = file_name+\".csv\"\n",
    "        if not os.path.exists(outdir):\n",
    "            os.mkdir(outdir)\n",
    "        df.to_csv(os.path.join(outdir,file_name), sep = \"\\t\")\n",
    "        \n",
    "        return df\n",
    "    else:\n",
    "        return df"
   ]
  },
  {
   "cell_type": "code",
   "execution_count": 42,
   "metadata": {},
   "outputs": [],
   "source": [
    "##to extract sorted values for properties prediction for each model\n",
    "get_most_comm = lambda x: x[list(x.keys())[0]][\"bycolumn\"].most_common()"
   ]
  },
  {
   "cell_type": "code",
   "execution_count": 4,
   "metadata": {},
   "outputs": [],
   "source": [
    "np.random.seed(42)"
   ]
  },
  {
   "cell_type": "code",
   "execution_count": 5,
   "metadata": {},
   "outputs": [],
   "source": [
    "#upload the semantic spaces for both arguments\n",
    "sspace_nsubj = pd.read_csv(\"..\\\\Data\\\\Semantic_Spaces\\\\sspace_spr2_nsubj.csv\", index_col = 'Token.Sent')\n",
    "sspace_dobj = pd.read_csv(\"..\\\\Data\\\\Semantic_Spaces\\\\sspace_spr2_dobj.csv\",  index_col = 'Token.Sent')"
   ]
  },
  {
   "cell_type": "markdown",
   "metadata": {},
   "source": [
    "## Mapping BabyBERTa"
   ]
  },
  {
   "cell_type": "code",
   "execution_count": 6,
   "metadata": {},
   "outputs": [
    {
     "name": "stdout",
     "output_type": "stream",
     "text": [
      "Sparse PCA activated\n",
      "\n",
      "Average row correlation for the BabyBERTa_nsubj space: 0.3454790023254753\n",
      "Average column correlation for the BabyBERTa_nsubj space: 0.3570435498045595\n",
      "\n",
      "Average row correlation for the BabyBERTa_nsubj_baseline space: -0.026640372076056726\n",
      "Average column correlation for the BabyBERTa_nsubj_baseline space: -0.03443351206489502\n",
      "\n",
      "Sparse PCA activated\n",
      "\n",
      "Average row correlation for the BabyBERTa_dobj space: 0.1994090416625628\n",
      "Average column correlation for the BabyBERTa_dobj space: 0.20121971805471586\n",
      "\n",
      "Average row correlation for the BabyBERTa_dobj_baseline space: -0.04497192947897173\n",
      "Average column correlation for the BabyBERTa_dobj_baseline space: -0.04283471976351089\n",
      "\n"
     ]
    }
   ],
   "source": [
    "#baby BERTa\n",
    "model_emb_path = \"target_embeddings_BabyBERTa-2.pkl\"\n",
    "bb_dict_nsubj, bb_dict_dobj, final_sspace_nsubj, final_sspace_dobj = embeddings_preparation(model_emb_path, \n",
    "                                                                    sspace_nsubj,\n",
    "                                                                    sspace_dobj, \n",
    "                                                                    model_name = \"BabyBERTa\",\n",
    "                                                                    return_new_sspace= True)\n",
    "\n",
    "bb_corrs_nsubj, bb_avgr_nsubj = get_correlations_values(bb_dict_nsubj, final_sspace_nsubj)\n",
    "bb_corrs_dobj, bb_avgr_dobj = get_correlations_values(bb_dict_dobj, final_sspace_dobj)\n",
    "\n",
    "#aggregate_results([bb_avgr_nsubj,bb_avgr_dobj], save_results = True, file_name = babyBERTa_avgr)"
   ]
  },
  {
   "cell_type": "code",
   "execution_count": 39,
   "metadata": {},
   "outputs": [
    {
     "name": "stdout",
     "output_type": "stream",
     "text": [
      "Not using Sparse PCA\n",
      "Average row correlation for the BabyBERTa_nsubj space: 0.7710238419553743\n",
      "Average column correlation for the BabyBERTa_nsubj space: 0.3570464734001003\n",
      "\n",
      "Average row correlation for the BabyBERTa_nsubj_baseline space: 0.7079004224299861\n",
      "Average column correlation for the BabyBERTa_nsubj_baseline space: -0.018589531823358273\n",
      "\n",
      "Not using Sparse PCA\n",
      "Average row correlation for the BabyBERTa_dobj space: 0.6575879560911262\n",
      "Average column correlation for the BabyBERTa_dobj space: 0.20120690436413316\n",
      "\n",
      "Average row correlation for the BabyBERTa_dobj_baseline space: 0.5645505268416493\n",
      "Average column correlation for the BabyBERTa_dobj_baseline space: -0.03241292901561521\n",
      "\n"
     ]
    }
   ],
   "source": [
    "# no sPCA\n",
    "bb_corrs_nsubj, bb_avgr_nsubj = get_correlations_values(bb_dict_nsubj, final_sspace_nsubj,sPca = False)\n",
    "bb_corrs_dobj, bb_avgr_dobj = get_correlations_values(bb_dict_dobj, final_sspace_dobj, sPca = False)"
   ]
  },
  {
   "cell_type": "markdown",
   "metadata": {},
   "source": [
    "## Mapping Pythia"
   ]
  },
  {
   "cell_type": "code",
   "execution_count": 43,
   "metadata": {},
   "outputs": [
    {
     "name": "stdout",
     "output_type": "stream",
     "text": [
      "Sparse PCA activated\n",
      "\n",
      "Average row correlation for the Pythia70m_nsubj space: 0.40719985408782094\n",
      "Average column correlation for the Pythia70m_nsubj space: 0.3987736007744081\n",
      "\n",
      "Average row correlation for the Pythia70m_nsubj_baseline space: 0.009269983128904292\n",
      "Average column correlation for the Pythia70m_nsubj_baseline space: -0.0025355962872302133\n",
      "\n",
      "Sparse PCA activated\n",
      "\n",
      "Average row correlation for the Pythia70m_dobj space: 0.21492591915127127\n",
      "Average column correlation for the Pythia70m_dobj space: 0.21103843645134115\n",
      "\n",
      "Average row correlation for the Pythia70m_dobj_baseline space: -0.03973209888702846\n",
      "Average column correlation for the Pythia70m_dobj_baseline space: -0.04758999916496879\n",
      "\n"
     ]
    }
   ],
   "source": [
    "#Pythia\n",
    "model_emb_path = \"target_embeddings_pythia-70m-deduped.pkl\"\n",
    "pythia_dict_nsubj, pythia_dict_dobj= embeddings_preparation(model_emb_path, \n",
    "                                                    sspace_nsubj,\n",
    "                                                    sspace_dobj, \n",
    "                                                    model_name = \"Pythia70m\"\n",
    "                                                    )\n",
    "\n",
    "pythia_corrs_nsubj, pythia_avgr_nsubj = get_correlations_values(pythia_dict_nsubj, final_sspace_nsubj)\n",
    "pythia_corrs_dobj, pythia_avgr_dobj = get_correlations_values(pythia_dict_dobj, final_sspace_dobj)\n",
    "\n",
    "#aggregate_results([pythia_avgr_nsubj,pythia_avgr_dobj], save_results = True, file_name = Pythia70m_avgr)"
   ]
  },
  {
   "cell_type": "code",
   "execution_count": 42,
   "metadata": {},
   "outputs": [
    {
     "name": "stdout",
     "output_type": "stream",
     "text": [
      "Not using Sparse PCA\n",
      "Average row correlation for the Pythia70m_nsubj space: 0.7816389431104404\n",
      "Average column correlation for the Pythia70m_nsubj space: 0.39878595139884104\n",
      "\n",
      "Average row correlation for the Pythia70m_nsubj_baseline space: 0.6869785933114928\n",
      "Average column correlation for the Pythia70m_nsubj_baseline space: -0.016999105149870172\n",
      "\n",
      "Not using Sparse PCA\n",
      "Average row correlation for the Pythia70m_dobj space: 0.6682005261153099\n",
      "Average column correlation for the Pythia70m_dobj space: 0.21107765574626722\n",
      "\n",
      "Average row correlation for the Pythia70m_dobj_baseline space: 0.5479877990161518\n",
      "Average column correlation for the Pythia70m_dobj_baseline space: -0.008249606870172932\n",
      "\n"
     ]
    }
   ],
   "source": [
    "pythia_corrs_nsubj, pythia_avgr_nsubj = get_correlations_values(pythia_dict_nsubj, final_sspace_nsubj, sPca = False)\n",
    "pythia_corrs_dobj, pythia_avgr_dobj = get_correlations_values(pythia_dict_dobj, final_sspace_dobj,sPca = False)"
   ]
  },
  {
   "cell_type": "markdown",
   "metadata": {},
   "source": [
    "## Mapping GPT2-XL"
   ]
  },
  {
   "cell_type": "code",
   "execution_count": 44,
   "metadata": {},
   "outputs": [
    {
     "name": "stdout",
     "output_type": "stream",
     "text": [
      "Sparse PCA activated\n",
      "\n",
      "Average row correlation for the GPT2-XL_nsubj space: 0.4234804614472664\n",
      "Average column correlation for the GPT2-XL_nsubj space: 0.4076927006612456\n",
      "\n",
      "Average row correlation for the GPT2-XL_nsubj_baseline space: 0.021417172039578675\n",
      "Average column correlation for the GPT2-XL_nsubj_baseline space: 0.02705330357746564\n",
      "\n",
      "Sparse PCA activated\n",
      "\n",
      "Average row correlation for the GPT2-XL_dobj space: 0.2559327995947714\n",
      "Average column correlation for the GPT2-XL_dobj space: 0.26106065176527615\n",
      "\n",
      "Average row correlation for the GPT2-XL_dobj_baseline space: 0.007690900648647128\n",
      "Average column correlation for the GPT2-XL_dobj_baseline space: 0.021374270116589125\n",
      "\n"
     ]
    }
   ],
   "source": [
    "#GPT2-XL\n",
    "model_emb_path = \"target_embeddings_gpt2-xl.pkl\"\n",
    "gpt2xl_dict_nsubj, gpt2xl_dict_dobj= embeddings_preparation(model_emb_path, \n",
    "                                                    sspace_nsubj,\n",
    "                                                    sspace_dobj, \n",
    "                                                    model_name = \"GPT2-XL\"\n",
    "                                                    )\n",
    "\n",
    "gpt2xl_corrs_nsubj, gpt2xl_avgr_nsubj = get_correlations_values(gpt2xl_dict_nsubj, final_sspace_nsubj)\n",
    "gpt2xl_corrs_dobj, gpt2xl_avgr_dobj = get_correlations_values(gpt2xl_dict_dobj, final_sspace_dobj)\n",
    "\n",
    "#aggregate_results([gpt2xl_avgr_nsubj,gpt2xl_avgr_dobj], save_results = True, file_name = GPT2-XL_avgr)"
   ]
  },
  {
   "cell_type": "code",
   "execution_count": 40,
   "metadata": {},
   "outputs": [
    {
     "name": "stdout",
     "output_type": "stream",
     "text": [
      "Not using Sparse PCA\n",
      "Average row correlation for the GPT2-XL_nsubj space: 0.7870254165356915\n",
      "Average column correlation for the GPT2-XL_nsubj space: 0.4077370644255654\n",
      "\n",
      "Average row correlation for the GPT2-XL_nsubj_baseline space: 0.6539906945969608\n",
      "Average column correlation for the GPT2-XL_nsubj_baseline space: -0.0008460060457187347\n",
      "\n",
      "Not using Sparse PCA\n",
      "Average row correlation for the GPT2-XL_dobj space: 0.6824411759289376\n",
      "Average column correlation for the GPT2-XL_dobj space: 0.26109680628558146\n",
      "\n",
      "Average row correlation for the GPT2-XL_dobj_baseline space: 0.5649349274801263\n",
      "Average column correlation for the GPT2-XL_dobj_baseline space: -0.020835481530775905\n",
      "\n"
     ]
    }
   ],
   "source": [
    "gpt2xl_corrs_nsubj, gpt2xl_avgr_nsubj = get_correlations_values(gpt2xl_dict_nsubj, final_sspace_nsubj, sPca = False)\n",
    "gpt2xl_corrs_dobj, gpt2xl_avgr_dobj = get_correlations_values(gpt2xl_dict_dobj, final_sspace_dobj, sPca = False)"
   ]
  },
  {
   "cell_type": "markdown",
   "metadata": {},
   "source": [
    "## DistilBERT"
   ]
  },
  {
   "cell_type": "code",
   "execution_count": 13,
   "metadata": {},
   "outputs": [
    {
     "name": "stdout",
     "output_type": "stream",
     "text": [
      "Sparse PCA activated\n",
      "\n",
      "Average row correlation for the DistilBERT_nsubj space: 0.46428115453011726\n",
      "Average column correlation for the DistilBERT_nsubj space: 0.4367163094331722\n",
      "\n",
      "Average row correlation for the DistilBERT_nsubj_baseline space: -0.011114404267931243\n",
      "Average column correlation for the DistilBERT_nsubj_baseline space: -0.02180144736941289\n",
      "\n",
      "Sparse PCA activated\n",
      "\n",
      "Average row correlation for the DistilBERT_dobj space: 0.38448593659861263\n",
      "Average column correlation for the DistilBERT_dobj space: 0.37952729591298157\n",
      "\n",
      "Average row correlation for the DistilBERT_dobj_baseline space: -0.041595024693616235\n",
      "Average column correlation for the DistilBERT_dobj_baseline space: -0.05069553177017758\n",
      "\n"
     ]
    }
   ],
   "source": [
    "#DistilBERT\n",
    "model_emb_path = \"target_embeddings_distilbert-base-uncased.pkl\"\n",
    "db_dict_nsubj, db_dict_dobj  = embeddings_preparation(model_emb_path,\n",
    "                                                                    sspace_nsubj,\n",
    "                                                                    sspace_dobj,\n",
    "                                                                    model_name = \"DistilBERT\",\n",
    "                                                                    return_new_sspace= False)\n",
    "\n",
    "db_corrs_nsubj, db_avgr_nsubj = get_correlations_values(db_dict_nsubj, final_sspace_nsubj)\n",
    "db_corrs_dobj, db_avgr_dobj = get_correlations_values(db_dict_dobj, final_sspace_dobj)"
   ]
  },
  {
   "cell_type": "code",
   "execution_count": null,
   "metadata": {},
   "outputs": [],
   "source": [
    "db_corrs_nsubj, db_avgr_nsubj = get_correlations_values(db_dict_nsubj, final_sspace_nsubj,sPca = False)\n",
    "db_corrs_dobj, db_avgr_dobj = get_correlations_values(db_dict_dobj, final_sspace_dobj, sPca = False)"
   ]
  },
  {
   "cell_type": "markdown",
   "metadata": {},
   "source": [
    "## Results Aggregation"
   ]
  },
  {
   "cell_type": "code",
   "execution_count": 47,
   "metadata": {},
   "outputs": [],
   "source": [
    "#aggregate all the results in a unique df\n",
    "all_avgr_spca = aggregate_results([db_avgr_nsubj,db_avgr_dobj,\n",
    "                                    pythia_avgr_nsubj,pythia_avgr_dobj,\n",
    "                                    gpt2xl_avgr_nsubj, gpt2xl_avgr_dobj], \n",
    "                                    save_results= True, \n",
    "                                    file_name = \"all_avgr\",\n",
    "                                    output_path=\"..\\\\Data\\\\Correlations\")"
   ]
  },
  {
   "cell_type": "code",
   "execution_count": 48,
   "metadata": {},
   "outputs": [],
   "source": [
    "all_avgr_spca= all_avgr_spca.round(decimals = 2)"
   ]
  },
  {
   "cell_type": "code",
   "execution_count": 49,
   "metadata": {},
   "outputs": [
    {
     "data": {
      "text/html": [
       "<div>\n",
       "<style scoped>\n",
       "    .dataframe tbody tr th:only-of-type {\n",
       "        vertical-align: middle;\n",
       "    }\n",
       "\n",
       "    .dataframe tbody tr th {\n",
       "        vertical-align: top;\n",
       "    }\n",
       "\n",
       "    .dataframe thead th {\n",
       "        text-align: right;\n",
       "    }\n",
       "</style>\n",
       "<table border=\"1\" class=\"dataframe\">\n",
       "  <thead>\n",
       "    <tr style=\"text-align: right;\">\n",
       "      <th></th>\n",
       "      <th>byrow</th>\n",
       "      <th>bycolumn</th>\n",
       "    </tr>\n",
       "  </thead>\n",
       "  <tbody>\n",
       "    <tr>\n",
       "      <th>DistilBERT_nsubj</th>\n",
       "      <td>0.46</td>\n",
       "      <td>0.44</td>\n",
       "    </tr>\n",
       "    <tr>\n",
       "      <th>DistilBERT_nsubj_baseline</th>\n",
       "      <td>-0.01</td>\n",
       "      <td>-0.02</td>\n",
       "    </tr>\n",
       "    <tr>\n",
       "      <th>DistilBERT_dobj</th>\n",
       "      <td>0.38</td>\n",
       "      <td>0.38</td>\n",
       "    </tr>\n",
       "    <tr>\n",
       "      <th>DistilBERT_dobj_baseline</th>\n",
       "      <td>-0.04</td>\n",
       "      <td>-0.05</td>\n",
       "    </tr>\n",
       "    <tr>\n",
       "      <th>Pythia70m_nsubj</th>\n",
       "      <td>0.41</td>\n",
       "      <td>0.40</td>\n",
       "    </tr>\n",
       "    <tr>\n",
       "      <th>Pythia70m_nsubj_baseline</th>\n",
       "      <td>0.01</td>\n",
       "      <td>-0.00</td>\n",
       "    </tr>\n",
       "    <tr>\n",
       "      <th>Pythia70m_dobj</th>\n",
       "      <td>0.21</td>\n",
       "      <td>0.21</td>\n",
       "    </tr>\n",
       "    <tr>\n",
       "      <th>Pythia70m_dobj_baseline</th>\n",
       "      <td>-0.04</td>\n",
       "      <td>-0.05</td>\n",
       "    </tr>\n",
       "    <tr>\n",
       "      <th>GPT2-XL_nsubj</th>\n",
       "      <td>0.42</td>\n",
       "      <td>0.41</td>\n",
       "    </tr>\n",
       "    <tr>\n",
       "      <th>GPT2-XL_nsubj_baseline</th>\n",
       "      <td>0.02</td>\n",
       "      <td>0.03</td>\n",
       "    </tr>\n",
       "    <tr>\n",
       "      <th>GPT2-XL_dobj</th>\n",
       "      <td>0.26</td>\n",
       "      <td>0.26</td>\n",
       "    </tr>\n",
       "    <tr>\n",
       "      <th>GPT2-XL_dobj_baseline</th>\n",
       "      <td>0.01</td>\n",
       "      <td>0.02</td>\n",
       "    </tr>\n",
       "  </tbody>\n",
       "</table>\n",
       "</div>"
      ],
      "text/plain": [
       "                           byrow  bycolumn\n",
       "DistilBERT_nsubj            0.46      0.44\n",
       "DistilBERT_nsubj_baseline  -0.01     -0.02\n",
       "DistilBERT_dobj             0.38      0.38\n",
       "DistilBERT_dobj_baseline   -0.04     -0.05\n",
       "Pythia70m_nsubj             0.41      0.40\n",
       "Pythia70m_nsubj_baseline    0.01     -0.00\n",
       "Pythia70m_dobj              0.21      0.21\n",
       "Pythia70m_dobj_baseline    -0.04     -0.05\n",
       "GPT2-XL_nsubj               0.42      0.41\n",
       "GPT2-XL_nsubj_baseline      0.02      0.03\n",
       "GPT2-XL_dobj                0.26      0.26\n",
       "GPT2-XL_dobj_baseline       0.01      0.02"
      ]
     },
     "execution_count": 49,
     "metadata": {},
     "output_type": "execute_result"
    }
   ],
   "source": [
    "all_avgr_spca"
   ]
  },
  {
   "cell_type": "code",
   "execution_count": 50,
   "metadata": {},
   "outputs": [],
   "source": [
    "# all_avgr_spca.to_latex(\"..\\\\Data\\\\Correlations\\\\all_avg_rhos.tex\", float_format={\"%.2f\"})"
   ]
  },
  {
   "cell_type": "code",
   "execution_count": 65,
   "metadata": {},
   "outputs": [],
   "source": [
    "#save all the properties correlations separately\n",
    "all_models_corrs = [db_corrs_nsubj,db_corrs_dobj,pythia_corrs_nsubj,pythia_corrs_dobj, gpt2xl_corrs_nsubj,gpt2xl_corrs_dobj]\n",
    "get_properties = lambda x: x[list(x.keys())[0]][\"bycolumn\"]\n",
    "get_model_names = lambda x: list(x.keys())[0]\n",
    "ouput_dir = \"..\\\\Data\\\\Correlations\\\\Properties_corrs\"\n",
    "if not os.path.exists(ouput_dir):\n",
    "    os.mkdir(ouput_dir)\n",
    "for i in all_models_corrs:\n",
    "    name = get_model_names(i)\n",
    "    properties = get_properties(i)\n",
    "    with open(os.path.join(ouput_dir,name+\".pkl\"), \"wb\") as outfile:\n",
    "        pickle.dump(properties, outfile)"
   ]
  },
  {
   "cell_type": "code",
   "execution_count": 84,
   "metadata": {},
   "outputs": [],
   "source": [
    "#create a df to have all results aggregated\n",
    "index = [get_model_names(i) for i in all_models_corrs]\n",
    "df = pd.concat([pd.DataFrame(get_properties(i), index = [i for i in range(15)]).drop_duplicates() for i in all_models_corrs])\n",
    "df.index = index\n",
    "df = df.round(2)\n",
    "df.to_csv(\"..\\\\Data\\\\Correlations\\\\Properties_corrs\\\\all_models_corrs.csv\", index_label=  \"Model_arg\")"
   ]
  },
  {
   "cell_type": "code",
   "execution_count": 114,
   "metadata": {},
   "outputs": [
    {
     "data": {
      "text/html": [
       "<div>\n",
       "<style scoped>\n",
       "    .dataframe tbody tr th:only-of-type {\n",
       "        vertical-align: middle;\n",
       "    }\n",
       "\n",
       "    .dataframe tbody tr th {\n",
       "        vertical-align: top;\n",
       "    }\n",
       "\n",
       "    .dataframe thead th {\n",
       "        text-align: right;\n",
       "    }\n",
       "</style>\n",
       "<table border=\"1\" class=\"dataframe\">\n",
       "  <thead>\n",
       "    <tr style=\"text-align: right;\">\n",
       "      <th></th>\n",
       "      <th>awareness</th>\n",
       "      <th>change_of_location</th>\n",
       "      <th>change_of_possession</th>\n",
       "      <th>change_of_state</th>\n",
       "      <th>change_of_state_continuous</th>\n",
       "      <th>existed_after</th>\n",
       "      <th>existed_before</th>\n",
       "      <th>existed_during</th>\n",
       "      <th>instigation</th>\n",
       "      <th>partitive</th>\n",
       "      <th>sentient</th>\n",
       "      <th>volition</th>\n",
       "      <th>was_for_benefit</th>\n",
       "      <th>was_used</th>\n",
       "    </tr>\n",
       "  </thead>\n",
       "  <tbody>\n",
       "    <tr>\n",
       "      <th>DistilBERT_nsubj</th>\n",
       "      <td>0.70</td>\n",
       "      <td>0.30</td>\n",
       "      <td>0.22</td>\n",
       "      <td>0.18</td>\n",
       "      <td>0.54</td>\n",
       "      <td>0.42</td>\n",
       "      <td>0.46</td>\n",
       "      <td>0.48</td>\n",
       "      <td>0.22</td>\n",
       "      <td>0.69</td>\n",
       "      <td>0.59</td>\n",
       "      <td>0.26</td>\n",
       "      <td>0.72</td>\n",
       "      <td>0.32</td>\n",
       "    </tr>\n",
       "    <tr>\n",
       "      <th>DistilBERT_dobj</th>\n",
       "      <td>0.58</td>\n",
       "      <td>0.32</td>\n",
       "      <td>0.59</td>\n",
       "      <td>0.13</td>\n",
       "      <td>0.38</td>\n",
       "      <td>0.24</td>\n",
       "      <td>0.37</td>\n",
       "      <td>0.23</td>\n",
       "      <td>0.45</td>\n",
       "      <td>0.48</td>\n",
       "      <td>0.47</td>\n",
       "      <td>0.21</td>\n",
       "      <td>0.58</td>\n",
       "      <td>0.28</td>\n",
       "    </tr>\n",
       "    <tr>\n",
       "      <th>Pythia70m_nsubj</th>\n",
       "      <td>0.65</td>\n",
       "      <td>0.18</td>\n",
       "      <td>0.23</td>\n",
       "      <td>0.13</td>\n",
       "      <td>0.47</td>\n",
       "      <td>0.38</td>\n",
       "      <td>0.42</td>\n",
       "      <td>0.47</td>\n",
       "      <td>0.22</td>\n",
       "      <td>0.67</td>\n",
       "      <td>0.57</td>\n",
       "      <td>0.17</td>\n",
       "      <td>0.69</td>\n",
       "      <td>0.31</td>\n",
       "    </tr>\n",
       "    <tr>\n",
       "      <th>Pythia70m_dobj</th>\n",
       "      <td>0.20</td>\n",
       "      <td>0.29</td>\n",
       "      <td>0.45</td>\n",
       "      <td>0.03</td>\n",
       "      <td>0.26</td>\n",
       "      <td>0.15</td>\n",
       "      <td>0.19</td>\n",
       "      <td>0.11</td>\n",
       "      <td>0.36</td>\n",
       "      <td>0.17</td>\n",
       "      <td>0.21</td>\n",
       "      <td>0.07</td>\n",
       "      <td>0.24</td>\n",
       "      <td>0.25</td>\n",
       "    </tr>\n",
       "    <tr>\n",
       "      <th>GPT2-XL_nsubj</th>\n",
       "      <td>0.66</td>\n",
       "      <td>0.22</td>\n",
       "      <td>0.24</td>\n",
       "      <td>0.13</td>\n",
       "      <td>0.49</td>\n",
       "      <td>0.38</td>\n",
       "      <td>0.44</td>\n",
       "      <td>0.46</td>\n",
       "      <td>0.24</td>\n",
       "      <td>0.69</td>\n",
       "      <td>0.59</td>\n",
       "      <td>0.19</td>\n",
       "      <td>0.69</td>\n",
       "      <td>0.32</td>\n",
       "    </tr>\n",
       "    <tr>\n",
       "      <th>GPT2-XL_dobj</th>\n",
       "      <td>0.28</td>\n",
       "      <td>0.30</td>\n",
       "      <td>0.49</td>\n",
       "      <td>0.15</td>\n",
       "      <td>0.25</td>\n",
       "      <td>0.17</td>\n",
       "      <td>0.21</td>\n",
       "      <td>0.18</td>\n",
       "      <td>0.40</td>\n",
       "      <td>0.23</td>\n",
       "      <td>0.23</td>\n",
       "      <td>0.18</td>\n",
       "      <td>0.31</td>\n",
       "      <td>0.26</td>\n",
       "    </tr>\n",
       "  </tbody>\n",
       "</table>\n",
       "</div>"
      ],
      "text/plain": [
       "                  awareness  change_of_location  change_of_possession  \\\n",
       "DistilBERT_nsubj       0.70                0.30                  0.22   \n",
       "DistilBERT_dobj        0.58                0.32                  0.59   \n",
       "Pythia70m_nsubj        0.65                0.18                  0.23   \n",
       "Pythia70m_dobj         0.20                0.29                  0.45   \n",
       "GPT2-XL_nsubj          0.66                0.22                  0.24   \n",
       "GPT2-XL_dobj           0.28                0.30                  0.49   \n",
       "\n",
       "                  change_of_state  change_of_state_continuous  existed_after  \\\n",
       "DistilBERT_nsubj             0.18                        0.54           0.42   \n",
       "DistilBERT_dobj              0.13                        0.38           0.24   \n",
       "Pythia70m_nsubj              0.13                        0.47           0.38   \n",
       "Pythia70m_dobj               0.03                        0.26           0.15   \n",
       "GPT2-XL_nsubj                0.13                        0.49           0.38   \n",
       "GPT2-XL_dobj                 0.15                        0.25           0.17   \n",
       "\n",
       "                  existed_before  existed_during  instigation  partitive  \\\n",
       "DistilBERT_nsubj            0.46            0.48         0.22       0.69   \n",
       "DistilBERT_dobj             0.37            0.23         0.45       0.48   \n",
       "Pythia70m_nsubj             0.42            0.47         0.22       0.67   \n",
       "Pythia70m_dobj              0.19            0.11         0.36       0.17   \n",
       "GPT2-XL_nsubj               0.44            0.46         0.24       0.69   \n",
       "GPT2-XL_dobj                0.21            0.18         0.40       0.23   \n",
       "\n",
       "                  sentient  volition  was_for_benefit  was_used  \n",
       "DistilBERT_nsubj      0.59      0.26             0.72      0.32  \n",
       "DistilBERT_dobj       0.47      0.21             0.58      0.28  \n",
       "Pythia70m_nsubj       0.57      0.17             0.69      0.31  \n",
       "Pythia70m_dobj        0.21      0.07             0.24      0.25  \n",
       "GPT2-XL_nsubj         0.59      0.19             0.69      0.32  \n",
       "GPT2-XL_dobj          0.23      0.18             0.31      0.26  "
      ]
     },
     "execution_count": 114,
     "metadata": {},
     "output_type": "execute_result"
    }
   ],
   "source": [
    "df"
   ]
  },
  {
   "cell_type": "code",
   "execution_count": 134,
   "metadata": {},
   "outputs": [
    {
     "name": "stdout",
     "output_type": "stream",
     "text": [
      "change_of_state\n",
      "change_of_state\n",
      "change_of_state\n",
      "change_of_state\n",
      "change_of_state\n",
      "change_of_state\n"
     ]
    }
   ],
   "source": [
    "for i in np.argmin(df.values, axis = 1):\n",
    "    print(df.columns[i])\n"
   ]
  },
  {
   "cell_type": "code",
   "execution_count": 136,
   "metadata": {},
   "outputs": [
    {
     "data": {
      "text/plain": [
       "DistilBERT_nsubj    0.32\n",
       "DistilBERT_dobj     0.28\n",
       "Pythia70m_nsubj     0.31\n",
       "Pythia70m_dobj      0.25\n",
       "GPT2-XL_nsubj       0.32\n",
       "GPT2-XL_dobj        0.26\n",
       "Name: was_used, dtype: float64"
      ]
     },
     "execution_count": 136,
     "metadata": {},
     "output_type": "execute_result"
    }
   ],
   "source": [
    "df[\"was_used\"]"
   ]
  },
  {
   "cell_type": "code",
   "execution_count": 135,
   "metadata": {},
   "outputs": [
    {
     "name": "stdout",
     "output_type": "stream",
     "text": [
      "Pythia70m_dobj\n",
      "Pythia70m_nsubj\n",
      "DistilBERT_nsubj\n",
      "Pythia70m_dobj\n",
      "GPT2-XL_dobj\n",
      "Pythia70m_dobj\n",
      "Pythia70m_dobj\n",
      "Pythia70m_dobj\n",
      "DistilBERT_nsubj\n",
      "Pythia70m_dobj\n",
      "Pythia70m_dobj\n",
      "Pythia70m_dobj\n",
      "Pythia70m_dobj\n",
      "Pythia70m_dobj\n"
     ]
    }
   ],
   "source": [
    "for i in np.argmin(df.values, axis = 0):\n",
    "    print(df.index[i])"
   ]
  },
  {
   "cell_type": "code",
   "execution_count": 107,
   "metadata": {},
   "outputs": [
    {
     "data": {
      "text/plain": [
       "Counter({'change_of_possession': 0.5859278830147343,\n",
       "         'awareness': 0.5832453587455781,\n",
       "         'was_for_benefit': 0.5821067807722763,\n",
       "         'partitive': 0.4837607536050305,\n",
       "         'sentient': 0.46734941439108474,\n",
       "         'instigation': 0.44934060719502295,\n",
       "         'change_of_state_continuous': 0.3838055282712607,\n",
       "         'existed_before': 0.3706217592569456,\n",
       "         'change_of_location': 0.3193797322684799,\n",
       "         'was_used': 0.279709418056011,\n",
       "         'existed_after': 0.23823146550656468,\n",
       "         'existed_during': 0.23383082673385713,\n",
       "         'volition': 0.20621785623458974,\n",
       "         'change_of_state': 0.12985475873030575})"
      ]
     },
     "execution_count": 107,
     "metadata": {},
     "output_type": "execute_result"
    }
   ],
   "source": [
    "pickle.load(open(os.path.join(ouput_dir,\"DistilBERT_dobj.pkl\"), \"rb\"))"
   ]
  },
  {
   "cell_type": "code",
   "execution_count": 110,
   "metadata": {},
   "outputs": [],
   "source": [
    "df.T.to_latex(\"..\\\\Data\\\\Correlations\\\\Properties_corrs\\\\all_models_T.tex\", float_format=\"%.2f\")"
   ]
  },
  {
   "cell_type": "code",
   "execution_count": 111,
   "metadata": {},
   "outputs": [
    {
     "data": {
      "image/png": "[encoded data removed]",
      "text/plain": [
       "<Figure size 900x700 with 1 Axes>"
      ]
     },
     "metadata": {},
     "output_type": "display_data"
    }
   ],
   "source": [
    "import seaborn as sns\n",
    "# plot of properties means comparison\n",
    "plt.figure(figsize= (9,7))\n",
    "\n",
    "ax = sns.heatmap(df.T, cmap = 'Blues', square= True,\n",
    "                 cbar = False, annot = True\n",
    "                )\n",
    "\n",
    "# remove ticks and set position and orientation for ticks label\n",
    "ax.tick_params(labeltop = False, labelbottom = True,\n",
    "                labelsize = 12, bottom = False, left = False)\n"
   ]
  },
  {
   "cell_type": "code",
   "execution_count": 86,
   "metadata": {},
   "outputs": [],
   "source": [
    "# df.to_latex(\"..\\\\Data\\\\Correlations\\\\Properties_corrs\\\\all_models_corrs.tex\",float_format={\"%.2f\"})"
   ]
  }
 ],
 "metadata": {
  "kernelspec": {
   "display_name": "paperLeL",
   "language": "python",
   "name": "python3"
  },
  "language_info": {
   "codemirror_mode": {
    "name": "ipython",
    "version": 3
   },
   "file_extension": ".py",
   "mimetype": "text/x-python",
   "name": "python",
   "nbconvert_exporter": "python",
   "pygments_lexer": "ipython3",
   "version": "3.11.4"
  },
  "orig_nbformat": 4
 },
 "nbformat": 4,
 "nbformat_minor": 2
}
